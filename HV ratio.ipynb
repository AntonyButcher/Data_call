{
 "metadata": {
  "name": "",
  "signature": "sha256:f71f79573a9319258513110366b337f453344a4f53f784373c596889a5916a9b"
 },
 "nbformat": 3,
 "nbformat_minor": 0,
 "worksheets": [
  {
   "cells": [
    {
     "cell_type": "code",
     "collapsed": false,
     "input": [
      "from obspy.fdsn import Client\n",
      "from obspy import UTCDateTime\n",
      "from obspy import read, Trace\n",
      "\n",
      "import numpy as np \n",
      "import matplotlib.pyplot as plt\n",
      "import matplotlib.mlab as ml\n",
      "import scipy\n",
      "from scipy.interpolate import griddata\n",
      "\n",
      "client = Client()"
     ],
     "language": "python",
     "metadata": {},
     "outputs": [],
     "prompt_number": 27
    },
    {
     "cell_type": "code",
     "collapsed": false,
     "input": [
      "def getWave(network, station, number, channel, UTC, dur):\n",
      "    \"\"\"\n",
      "    Downloads miniseed datasets through the obspy.fdsn function.     \n",
      "    \"\"\"\n",
      "    t = UTCDateTime(UTC)\n",
      "    st = client.get_waveforms(network, station, number, channel, t, t + dur, attach_response=True)\n",
      "    print st\n",
      "    return st"
     ],
     "language": "python",
     "metadata": {},
     "outputs": [],
     "prompt_number": 28
    },
    {
     "cell_type": "code",
     "collapsed": false,
     "input": [
      "def preprocess(stream):\n",
      "    \"\"\"Carries out simple preprocessing of trace, by first merging the stream, \n",
      "    removing instrumetn response, highpass filtering at 0.2 Hz then tapering\"\"\"\n",
      "#    stream.merge()\n",
      "    stream.remove_response(output=\"vel\")\n",
      "    stream.filter('highpass',freq=0.02,corners=2,zerophase=True)\n",
      "    stream.taper(max_percentage=0.01,type='cosine')\n",
      "    return stream"
     ],
     "language": "python",
     "metadata": {},
     "outputs": [],
     "prompt_number": 29
    },
    {
     "cell_type": "code",
     "collapsed": false,
     "input": [
      "def HVSR(trace):\n",
      "    length = len(trace)\n",
      "    samp_rate=trace.stats.sampling_rate\n",
      "        \n",
      "    data=trace.data\n",
      "    spec_amp=np.fft.fft(data,n=length)\n",
      "    spec_pow=abs(spec_amp)*abs(spec_amp)\n",
      "        \n",
      "    freq = np.fft.fftfreq(length, d=1./samp_rate)\n",
      "    freq_abs=abs(freq)\n",
      "\n",
      "\n",
      "    w=100\n",
      "    step=100\n",
      "    freq_par=[freq_abs[i] for i in range(0,len(freq_abs),step)]\n",
      "    spec_par=[sum(spec_pow[i-(w-step):i+step]) if i>(w-1) else sum(spec_pow[:i+step]) for i in range(0,len(spec_pow),step)]\n",
      "    return freq_par,spec_par"
     ],
     "language": "python",
     "metadata": {},
     "outputs": [],
     "prompt_number": 161
    },
    {
     "cell_type": "code",
     "collapsed": false,
     "input": [
      "st = getWave('GB','MCH1','*', 'BH*', '2012-04-16T00:00:00.000',2400)"
     ],
     "language": "python",
     "metadata": {},
     "outputs": [
      {
       "output_type": "stream",
       "stream": "stdout",
       "text": [
        "3 Trace(s) in Stream:\n",
        "GB.MCH1..BHE | 2012-04-16T00:00:00.015000Z - 2012-04-16T00:39:59.995000Z | 50.0 Hz, 120000 samples\n",
        "GB.MCH1..BHN | 2012-04-16T00:00:00.015000Z - 2012-04-16T00:39:59.995000Z | 50.0 Hz, 120000 samples\n",
        "GB.MCH1..BHZ | 2012-04-16T00:00:00.015000Z - 2012-04-16T00:39:59.995000Z | 50.0 Hz, 120000 samples\n"
       ]
      }
     ],
     "prompt_number": 213
    },
    {
     "cell_type": "code",
     "collapsed": false,
     "input": [
      "st_pre=preprocess(st)"
     ],
     "language": "python",
     "metadata": {},
     "outputs": [],
     "prompt_number": 214
    },
    {
     "cell_type": "code",
     "collapsed": false,
     "input": [
      "st_pre.plot()"
     ],
     "language": "python",
     "metadata": {},
     "outputs": [],
     "prompt_number": 215
    },
    {
     "cell_type": "code",
     "collapsed": false,
     "input": [
      "st[0].spectrogram(dbscale=True)"
     ],
     "language": "python",
     "metadata": {},
     "outputs": [],
     "prompt_number": 218
    },
    {
     "cell_type": "code",
     "collapsed": false,
     "input": [
      "freq_par_e,spec_par_e = HVSR(st_pre[0])\n",
      "freq_par_n,spec_par_n = HVSR(st_pre[1])\n",
      "freq_par_z,spec_par_z = HVSR(st_pre[2])"
     ],
     "language": "python",
     "metadata": {},
     "outputs": [],
     "prompt_number": 216
    },
    {
     "cell_type": "code",
     "collapsed": false,
     "input": [
      "print len(freq_par_z)\n",
      "print len(spec_par_z)"
     ],
     "language": "python",
     "metadata": {},
     "outputs": [
      {
       "output_type": "stream",
       "stream": "stdout",
       "text": [
        "1200\n",
        "1200\n"
       ]
      }
     ],
     "prompt_number": 179
    },
    {
     "cell_type": "code",
     "collapsed": false,
     "input": [
      "plt.plot(freq_par_n[0:(len(freq_par_e)/2)], spec_par_n[0:(len(spec_par_e)/2)])\n",
      "#plt.xlim([3,20])\n",
      "#plt.ylim([0,0.00000001])\n",
      "plt.show()"
     ],
     "language": "python",
     "metadata": {},
     "outputs": [],
     "prompt_number": 225
    },
    {
     "cell_type": "code",
     "collapsed": false,
     "input": [
      "spec_e=np.array(spec_par_e)\n",
      "spec_n=np.array(spec_par_n)\n",
      "spec_z=np.array(spec_par_z)"
     ],
     "language": "python",
     "metadata": {},
     "outputs": [],
     "prompt_number": 219
    },
    {
     "cell_type": "code",
     "collapsed": false,
     "input": [
      "ev=spec_e/spec_z\n",
      "nv=spec_n/spec_z\n",
      "en=spec_e/spec_n"
     ],
     "language": "python",
     "metadata": {},
     "outputs": [],
     "prompt_number": 220
    },
    {
     "cell_type": "code",
     "collapsed": false,
     "input": [
      "plt.plot(freq_par_n[0:(len(freq_par_e)/2)], ev[0:(len(spec_par_e)/2)])\n",
      "plt.plot(freq_par_n[0:(len(freq_par_e)/2)], nv[0:(len(spec_par_e)/2)])\n",
      "plt.plot(freq_par_n[0:(len(freq_par_e)/2)], en[0:(len(spec_par_e)/2)])\n",
      "#plt.xlim([3,20])\n",
      "plt.ylim([0,15])\n",
      "plt.show()"
     ],
     "language": "python",
     "metadata": {},
     "outputs": [],
     "prompt_number": 223
    },
    {
     "cell_type": "code",
     "collapsed": false,
     "input": [
      "print len(spec_par[1])"
     ],
     "language": "python",
     "metadata": {},
     "outputs": [
      {
       "ename": "NameError",
       "evalue": "name 'spec_par' is not defined",
       "output_type": "pyerr",
       "traceback": [
        "\u001b[0;31m---------------------------------------------------------------------------\u001b[0m\n\u001b[0;31mNameError\u001b[0m                                 Traceback (most recent call last)",
        "\u001b[0;32m<ipython-input-155-73efb6b39c67>\u001b[0m in \u001b[0;36m<module>\u001b[0;34m()\u001b[0m\n\u001b[0;32m----> 1\u001b[0;31m \u001b[0;32mprint\u001b[0m \u001b[0mlen\u001b[0m\u001b[0;34m(\u001b[0m\u001b[0mspec_par\u001b[0m\u001b[0;34m[\u001b[0m\u001b[0;36m1\u001b[0m\u001b[0;34m]\u001b[0m\u001b[0;34m)\u001b[0m\u001b[0;34m\u001b[0m\u001b[0m\n\u001b[0m",
        "\u001b[0;31mNameError\u001b[0m: name 'spec_par' is not defined"
       ]
      }
     ],
     "prompt_number": 155
    },
    {
     "cell_type": "code",
     "collapsed": false,
     "input": [
      "def HVSR(stream)\n",
      "length = len(st_pre[0])\n",
      "samp_rate=st_pre[0].stats.sampling_rate \n",
      "\n",
      "st_pre_data=st_pre[0].data\n",
      "st_spec=np.fft.fft(st_pre_data,n=length)\n",
      "st_pow=abs(st_pre_spec)*abs(st_pre_spec)\n",
      "\n",
      "freq = np.fft.fftfreq(length, d=1./samp_rate)\n",
      "#freq_abs=abs(freq)\n",
      "\n",
      "w=100\n",
      "step=100\n",
      "st_par=[sum(st_pow[i-(w-step):i+step]) if i>(w-1) else sum(st_pow[:i+step])  for i in range(0,len(st_pow),step)]"
     ],
     "language": "python",
     "metadata": {},
     "outputs": [],
     "prompt_number": 142
    },
    {
     "cell_type": "code",
     "collapsed": false,
     "input": [
      "print len(st_par)"
     ],
     "language": "python",
     "metadata": {},
     "outputs": [
      {
       "output_type": "stream",
       "stream": "stdout",
       "text": [
        "600\n"
       ]
      }
     ],
     "prompt_number": 147
    },
    {
     "cell_type": "code",
     "collapsed": false,
     "input": [
      "\n",
      "freq_par=[freq_abs[i] for i in range(0,len(freq_abs),step)]"
     ],
     "language": "python",
     "metadata": {},
     "outputs": [],
     "prompt_number": 144
    },
    {
     "cell_type": "code",
     "collapsed": false,
     "input": [
      "x=np.linspace(0, 20000, num=20000)\n",
      "plt.plot(x, freq_par)\n",
      "plt.show()"
     ],
     "language": "python",
     "metadata": {},
     "outputs": [],
     "prompt_number": 103
    },
    {
     "cell_type": "code",
     "collapsed": false,
     "input": [
      "x=np.linspace(0, 600, num=600)\n",
      "plt.plot(x,st_par)\n",
      "plt.show()"
     ],
     "language": "python",
     "metadata": {},
     "outputs": [],
     "prompt_number": 149
    },
    {
     "cell_type": "code",
     "collapsed": false,
     "input": [
      "freq_mean=runningMeanFast(freq,3)"
     ],
     "language": "python",
     "metadata": {},
     "outputs": [],
     "prompt_number": 77
    },
    {
     "cell_type": "code",
     "collapsed": false,
     "input": [
      "print len(freq)\n",
      "print len(freq_par)"
     ],
     "language": "python",
     "metadata": {},
     "outputs": [
      {
       "output_type": "stream",
       "stream": "stdout",
       "text": [
        "60000\n",
        "600\n"
       ]
      }
     ],
     "prompt_number": 148
    },
    {
     "cell_type": "code",
     "collapsed": false,
     "input": [
      "lis=[1,2,3,4,5,6,7,8,9,10,11,12]\n",
      "\n",
      "w=3\n",
      "\n",
      "[sum(lis[i-(w-3):i+3]) if i>(w-1) else sum(lis[:i+3])  for i in range(0,len(lis),3)]"
     ],
     "language": "python",
     "metadata": {},
     "outputs": [
      {
       "metadata": {},
       "output_type": "pyout",
       "prompt_number": 63,
       "text": [
        "[6, 15, 24, 33]"
       ]
      }
     ],
     "prompt_number": 63
    },
    {
     "cell_type": "code",
     "collapsed": false,
     "input": [],
     "language": "python",
     "metadata": {},
     "outputs": []
    },
    {
     "cell_type": "code",
     "collapsed": false,
     "input": [
      "print st_pre_spec_pow[1]"
     ],
     "language": "python",
     "metadata": {},
     "outputs": [
      {
       "output_type": "stream",
       "stream": "stdout",
       "text": [
        "2.48799576226e-08\n"
       ]
      }
     ],
     "prompt_number": 41
    },
    {
     "cell_type": "code",
     "collapsed": false,
     "input": [
      "plt.plot(freq_par, st_par)\n",
      "#plt.xlim([3,20])\n",
      "plt.ylim([0,0.000000001])\n",
      "plt.show()\n"
     ],
     "language": "python",
     "metadata": {},
     "outputs": [],
     "prompt_number": 151
    },
    {
     "cell_type": "code",
     "collapsed": false,
     "input": [
      "plt.plot(freq_par[0:300], st_par[0:300])\n",
      "plt.show()"
     ],
     "language": "python",
     "metadata": {},
     "outputs": [],
     "prompt_number": 122
    }
   ],
   "metadata": {}
  }
 ]
}