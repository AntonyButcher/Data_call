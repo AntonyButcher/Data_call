{
 "metadata": {
  "name": "",
  "signature": "sha256:c5c7602d1a90bb2e31c0d4b2ce75735ff251f8b15f2253bdf71d002354b8adac"
 },
 "nbformat": 3,
 "nbformat_minor": 0,
 "worksheets": [
  {
   "cells": [
    {
     "cell_type": "code",
     "collapsed": false,
     "input": [
      "from obspy.fdsn import Client\n",
      "from obspy import UTCDateTime\n",
      "from obspy import read, Trace\n",
      "from math import sqrt\n",
      "\n",
      "import numpy as np \n",
      "import matplotlib.pyplot as plt\n",
      "import matplotlib.mlab as ml\n",
      "import scipy\n",
      "from scipy.interpolate import griddata\n",
      "\n",
      "client = Client()"
     ],
     "language": "python",
     "metadata": {},
     "outputs": [],
     "prompt_number": 45
    },
    {
     "cell_type": "code",
     "collapsed": false,
     "input": [
      "def getWave(network, station, number, channel, UTC, dur):\n",
      "    \"\"\"\n",
      "    Downloads miniseed datasets through the obspy.fdsn function.     \n",
      "    \"\"\"\n",
      "    t = UTCDateTime(UTC)\n",
      "    st = client.get_waveforms(network, station, number, channel, t, t + dur, attach_response=True)\n",
      "    print st\n",
      "    return st"
     ],
     "language": "python",
     "metadata": {},
     "outputs": [],
     "prompt_number": 46
    },
    {
     "cell_type": "code",
     "collapsed": false,
     "input": [
      "def preprocess(stream):\n",
      "    \"\"\"Carries out simple preprocessing of trace, by first merging the stream, \n",
      "    removing instrumetn response, highpass filtering at 0.2 Hz then tapering\"\"\"\n",
      "#    stream.merge()\n",
      "    stream.remove_response(output=\"vel\")\n",
      "    stream.filter('highpass',freq=0.02,corners=2,zerophase=True)\n",
      "    stream.taper(max_percentage=0.02,type='cosine')\n",
      "    return stream"
     ],
     "language": "python",
     "metadata": {},
     "outputs": [],
     "prompt_number": 47
    },
    {
     "cell_type": "code",
     "collapsed": false,
     "input": [
      "def HVSR(trace):\n",
      "    length = len(trace)\n",
      "    samp_rate=trace.stats.sampling_rate\n",
      "        \n",
      "    data=trace.data\n",
      "    spec_amp=np.fft.fft(data,n=length)\n",
      "    spec_pow=abs(spec_amp)*abs(spec_amp)\n",
      "        \n",
      "    freq = np.fft.fftfreq(length, d=1./samp_rate)\n",
      "    freq_abs=abs(freq)\n",
      "\n",
      "\n",
      "    w=200\n",
      "    step=200\n",
      "    freq_par=[freq_abs[i] for i in range(0,len(freq_abs),step)]\n",
      "    spec_par=[sum(spec_pow[i-(w-step):i+step]) if i>(w-1) else sum(spec_pow[:i+step]) for i in range(0,len(spec_pow),step)]\n",
      "\n",
      "    return freq_par,spec_par"
     ],
     "language": "python",
     "metadata": {},
     "outputs": [],
     "prompt_number": 86
    },
    {
     "cell_type": "code",
     "collapsed": false,
     "input": [
      "def squareroot(list):\n",
      "    return [i ** 0.5 for i in list]"
     ],
     "language": "python",
     "metadata": {},
     "outputs": [],
     "prompt_number": 49
    },
    {
     "cell_type": "code",
     "collapsed": false,
     "input": [
      "st = getWave('GB','MCH1','*', 'BH*', '2011-04-16T00:00:00.000',3600)"
     ],
     "language": "python",
     "metadata": {},
     "outputs": [
      {
       "output_type": "stream",
       "stream": "stdout",
       "text": [
        "3 Trace(s) in Stream:\n",
        "GB.MCH1..BHE | 2011-04-16T00:00:00.015000Z - 2011-04-16T00:59:59.995000Z | 50.0 Hz, 180000 samples\n",
        "GB.MCH1..BHN | 2011-04-16T00:00:00.015000Z - 2011-04-16T00:59:59.995000Z | 50.0 Hz, 180000 samples\n",
        "GB.MCH1..BHZ | 2011-04-16T00:00:00.015000Z - 2011-04-16T00:59:59.995000Z | 50.0 Hz, 180000 samples\n"
       ]
      }
     ],
     "prompt_number": 94
    },
    {
     "cell_type": "code",
     "collapsed": false,
     "input": [
      "st_pre=preprocess(st)"
     ],
     "language": "python",
     "metadata": {},
     "outputs": [],
     "prompt_number": 95
    },
    {
     "cell_type": "code",
     "collapsed": false,
     "input": [
      "st_pre.plot()"
     ],
     "language": "python",
     "metadata": {},
     "outputs": []
    },
    {
     "cell_type": "code",
     "collapsed": false,
     "input": [
      "st_pre.write('MCH1.sac', format='SAC') "
     ],
     "language": "python",
     "metadata": {},
     "outputs": [],
     "prompt_number": 65
    },
    {
     "cell_type": "code",
     "collapsed": false,
     "input": [
      "freq_par_e,spec_par_e = HVSR(st_pre[0])\n",
      "freq_par_n,spec_par_n = HVSR(st_pre[1])\n",
      "freq_par_z,spec_par_z = HVSR(st_pre[2])"
     ],
     "language": "python",
     "metadata": {},
     "outputs": [],
     "prompt_number": 97
    },
    {
     "cell_type": "code",
     "collapsed": false,
     "input": [
      "spec_par2_e=squareroot(spec_par_e)\n",
      "spec_par2_n=squareroot(spec_par_n)\n",
      "spec_par2_z=squareroot(spec_par_z)"
     ],
     "language": "python",
     "metadata": {},
     "outputs": [],
     "prompt_number": 98
    },
    {
     "cell_type": "code",
     "collapsed": false,
     "input": [
      "print len(freq_par_z)\n",
      "print len(spec_par_z)"
     ],
     "language": "python",
     "metadata": {},
     "outputs": [
      {
       "output_type": "stream",
       "stream": "stdout",
       "text": [
        "900\n",
        "900\n"
       ]
      }
     ],
     "prompt_number": 99
    },
    {
     "cell_type": "code",
     "collapsed": false,
     "input": [
      "plt.plot(freq_par_z[0:(len(freq_par_z)/2)], spec_par2_z[0:(len(spec_par_z)/2)])\n",
      "#plt.xlim([3,20])\n",
      "plt.ylim([0,0.0001])\n",
      "plt.show()"
     ],
     "language": "python",
     "metadata": {},
     "outputs": [],
     "prompt_number": 90
    },
    {
     "cell_type": "code",
     "collapsed": false,
     "input": [
      "spec_e=np.array(spec_par2_e)\n",
      "spec_n=np.array(spec_par2_n)\n",
      "spec_z=np.array(spec_par2_z)"
     ],
     "language": "python",
     "metadata": {},
     "outputs": [],
     "prompt_number": 100
    },
    {
     "cell_type": "code",
     "collapsed": false,
     "input": [
      "ev=spec_e/spec_z\n",
      "nv=spec_n/spec_z\n",
      "en=spec_e/spec_n"
     ],
     "language": "python",
     "metadata": {},
     "outputs": [],
     "prompt_number": 101
    },
    {
     "cell_type": "code",
     "collapsed": false,
     "input": [
      "plt.plot(freq_par_n[0:(len(freq_par_e)/2)], ev[0:(len(spec_par_e)/2)])\n",
      "plt.plot(freq_par_n[0:(len(freq_par_e)/2)], nv[0:(len(spec_par_e)/2)])\n",
      "plt.plot(freq_par_n[0:(len(freq_par_e)/2)], en[0:(len(spec_par_e)/2)])\n",
      "#plt.xlim([3,20])\n",
      "#plt.ylim([0,15])\n",
      "plt.savefig('HVSR.pdf')\n",
      "plt.show()"
     ],
     "language": "python",
     "metadata": {},
     "outputs": []
    },
    {
     "cell_type": "code",
     "collapsed": false,
     "input": [
      "plt.plot(freq_par, st_par)\n",
      "#plt.xlim([3,20])\n",
      "plt.ylim([0,0.000000001])\n",
      "plt.show()\n"
     ],
     "language": "python",
     "metadata": {},
     "outputs": [],
     "prompt_number": 151
    }
   ],
   "metadata": {}
  }
 ]
}