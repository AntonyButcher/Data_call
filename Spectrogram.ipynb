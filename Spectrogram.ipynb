{
 "metadata": {
  "name": "",
  "signature": "sha256:f971a57504ba605522829936695046680d3400850a6c06906eef4a73bced9d0d"
 },
 "nbformat": 3,
 "nbformat_minor": 0,
 "worksheets": [
  {
   "cells": [
    {
     "cell_type": "code",
     "collapsed": false,
     "input": [
      "from obspy.fdsn import Client\n",
      "from obspy import UTCDateTime\n",
      "\n",
      "import numpy as np \n",
      "import matplotlib.pyplot as plt\n",
      "import matplotlib.mlab as ml\n",
      "from scipy.interpolate import griddata\n",
      "\n",
      "client = Client()"
     ],
     "language": "python",
     "metadata": {},
     "outputs": [],
     "prompt_number": 55
    },
    {
     "cell_type": "code",
     "collapsed": false,
     "input": [
      "def getWave(network, station, number, channel, UTC, dur):\n",
      "    t = UTCDateTime(UTC)\n",
      "    st = client.get_waveforms(network, station, number, channel, t, t + dur, attach_response=True)\n",
      "    print st\n",
      "    return st"
     ],
     "language": "python",
     "metadata": {},
     "outputs": [],
     "prompt_number": 56
    },
    {
     "cell_type": "code",
     "collapsed": false,
     "input": [
      "def preprocess(stream):\n",
      "    stream.merge()\n",
      "    stream.remove_response(output=\"vel\")\n",
      "    stream.filter('highpass',freq=0.02,corners=2,zerophase=True)\n",
      "    stream.taper(max_percentage=0.01,type='cosine')\n",
      "    return stream"
     ],
     "language": "python",
     "metadata": {},
     "outputs": [],
     "prompt_number": 57
    },
    {
     "cell_type": "code",
     "collapsed": false,
     "input": [
      "def spec_amp(stream):\n",
      "    data=np.array((0))\n",
      "    time=np.array((0))\n",
      "    freq=np.array((0))\n",
      "    \n",
      "    t1=stream[0].stats.starttime\n",
      "    t2=stream[0].stats.endtime\n",
      "    samp_rate=stream[0].stats.sampling_rate \n",
      "    \n",
      "    t=t1\n",
      "    \n",
      "    while t < t2:\n",
      "        cut=stream[0].slice(t,t+1200)\n",
      "        tmid=t+600\n",
      "        t=t+1200\n",
      "        length = len(cut)-1\n",
      "        \n",
      "        time_temp=np.zeros(shape=(length,1))\n",
      "        \n",
      "        for a in range(0,length):\n",
      "            time_temp[a]=[tmid.timestamp]\n",
      "\n",
      "        time=np.vstack((time,time_temp))\n",
      "        \n",
      "        cut_data=cut.data\n",
      "        cut_spec=np.fft.fft(cut_data,n=length)\n",
      "    \n",
      "        data_temp=np.zeros(shape=(length,1),dtype=np.complex)\n",
      "        \n",
      "        for b in range(0,length):\n",
      "            data_temp[b]=cut_spec[b]\n",
      "    \n",
      "        data=np.vstack((data,data_temp))\n",
      "        \n",
      "        freq_temp = np.fft.fftfreq(length, d=1./samp_rate)\n",
      "    \n",
      "        freq_temp2=np.zeros(shape=(length,1))\n",
      "        \n",
      "        for c in range(0,length):\n",
      "            freq_temp2[c]=freq_temp[c]   \n",
      "    \n",
      "    \n",
      "        freq=np.vstack((freq,freq_temp2))\n",
      "        \n",
      "    time=np.delete(time,0,0)\n",
      "    data=np.delete(data,0,0)\n",
      "    freq=np.delete(freq,0,0)\n",
      "    \n",
      "    time=time-time.min()\n",
      "\n",
      "    \n",
      "    return time,data,freq"
     ],
     "language": "python",
     "metadata": {},
     "outputs": [],
     "prompt_number": 58
    },
    {
     "cell_type": "code",
     "collapsed": false,
     "input": [
      "def Contour(time,freq,data):\n",
      "    x=np.array(())\n",
      "    y=np.array(())\n",
      "    z=np.array(())\n",
      "    \n",
      "    x = np.append(x,time)\n",
      "    y = np.append(y,abs(freq))\n",
      "    z = np.append(z,abs(data))\n",
      "    \n",
      "    points = x,y\n",
      "    values = z\n",
      "    \n",
      "    ndata = len(data)\n",
      "    ny, nx = 1, 1200\n",
      "    xmin, xmax = x.min(), x.max()\n",
      "    ymin, ymax = y.min(), y.max()\n",
      "    \n",
      "    xi, yi = np.mgrid[x.min():x.max():nx, ymin:ymax:ny]\n",
      "    \n",
      "    zi = griddata(points, values, (xi, yi), method='nearest') \n",
      "\n",
      "    \n",
      "    return xi,yi,zi"
     ],
     "language": "python",
     "metadata": {},
     "outputs": [],
     "prompt_number": 59
    },
    {
     "cell_type": "code",
     "collapsed": false,
     "input": [
      "st_z = getWave('GB','HTL','*', 'BHZ', '2010-02-15T00:00:00.000',3600*3)\n",
      "st_e = getWave('GB','HTL','*', 'BHE', '2010-02-15T00:00:00.000',3600*3)\n",
      "st_n = getWave('GB','HTL','*', 'BHN', '2010-02-15T00:00:00.000',3600*3)"
     ],
     "language": "python",
     "metadata": {},
     "outputs": [
      {
       "output_type": "stream",
       "stream": "stdout",
       "text": [
        "1 Trace(s) in Stream:\n",
        "GB.HTL..BHZ | 2010-02-15T00:00:00.015000Z - 2010-02-15T02:59:59.995000Z | 50.0 Hz, 540000 samples\n",
        "1 Trace(s) in Stream:\n",
        "GB.HTL..BHE | 2010-02-15T00:00:00.015000Z - 2010-02-15T02:59:59.995000Z | 50.0 Hz, 540000 samples"
       ]
      },
      {
       "output_type": "stream",
       "stream": "stdout",
       "text": [
        "\n",
        "1 Trace(s) in Stream:\n",
        "GB.HTL..BHN | 2010-02-15T00:00:00.015000Z - 2010-02-15T02:59:59.995000Z | 50.0 Hz, 540000 samples"
       ]
      },
      {
       "output_type": "stream",
       "stream": "stdout",
       "text": [
        "\n"
       ]
      }
     ],
     "prompt_number": 6
    },
    {
     "cell_type": "code",
     "collapsed": false,
     "input": [
      "st_pre_z = preprocess(st_z)\n",
      "st_pre_e = preprocess(st_e)\n",
      "st_pre_n = preprocess(st_n)"
     ],
     "language": "python",
     "metadata": {},
     "outputs": [],
     "prompt_number": 60
    },
    {
     "cell_type": "code",
     "collapsed": false,
     "input": [
      "st_pre_z.write('st_pre_z.sac', format='SAC') \n",
      "st_pre_e.write('st_pre_e.sac', format='SAC') \n",
      "st_pre_n.write('st_pre_n.sac', format='SAC') "
     ],
     "language": "python",
     "metadata": {},
     "outputs": [],
     "prompt_number": 49
    },
    {
     "cell_type": "code",
     "collapsed": false,
     "input": [
      "fig = plt.figure()\n",
      "st_pre_z.plot()\n",
      "st_pre_e.plot()\n",
      "st_pre_n.plot()"
     ],
     "language": "python",
     "metadata": {},
     "outputs": [],
     "prompt_number": 9
    },
    {
     "cell_type": "code",
     "collapsed": false,
     "input": [
      "time_z,data_z,freq_z=spec_amp(st_pre_z)\n",
      "time_e,data_e,freq_e=spec_amp(st_pre_e)\n",
      "time_n,data_n,freq_n=spec_amp(st_pre_n)"
     ],
     "language": "python",
     "metadata": {},
     "outputs": [],
     "prompt_number": 10
    },
    {
     "cell_type": "code",
     "collapsed": false,
     "input": [
      "sum_data_z=abs(data_z[0:59999])\n",
      "for a in range(1,8):\n",
      "    sum_data_z=sum_data_z+abs(data_z[(60000*a)+1:60000*(a+1)])    \n",
      "av_data_z=sum_data_z/9\n",
      "\n",
      "sum_data_e=abs(data_e[0:59999])\n",
      "for a in range(1,8):\n",
      "    sum_data_e=sum_data_e+abs(data_e[(60000*a)+1:60000*(a+1)])    \n",
      "av_data_e=sum_data_e/9\n",
      "\n",
      "sum_data_n=abs(data_n[0:59999])\n",
      "for a in range(1,8):\n",
      "    sum_data_n=sum_data_n+abs(data_n[(60000*a)+1:60000*(a+1)])    \n",
      "av_data_n=sum_data_n/9\n"
     ],
     "language": "python",
     "metadata": {},
     "outputs": [],
     "prompt_number": 43
    },
    {
     "cell_type": "code",
     "collapsed": false,
     "input": [
      "Comp=['e','n','z']\n",
      "\n",
      "for com in Comp:\n",
      "    'sum_data_'&com=abs(data_z[0:59999])\n",
      "    for a in range(1,8):\n",
      "        sum_data_z=sum_data_z+abs(data_z[(60000*a)+1:60000*(a+1)])    \n",
      "    av_data_z=sum_data_z/9\n",
      "\n"
     ],
     "language": "python",
     "metadata": {},
     "outputs": [
      {
       "ename": "SyntaxError",
       "evalue": "can't assign to operator (<ipython-input-51-755f24fd186d>, line 4)",
       "output_type": "pyerr",
       "traceback": [
        "\u001b[0;36m  File \u001b[0;32m\"<ipython-input-51-755f24fd186d>\"\u001b[0;36m, line \u001b[0;32m4\u001b[0m\n\u001b[0;31m    'sum_data_'&com=abs(data_z[0:59999])\u001b[0m\n\u001b[0;31mSyntaxError\u001b[0m\u001b[0;31m:\u001b[0m can't assign to operator\n"
       ]
      }
     ],
     "prompt_number": 51
    },
    {
     "cell_type": "code",
     "collapsed": false,
     "input": [
      "collection = ['hey', 5, 'd']\n",
      "for x in collection:\n",
      "    print x\n",
      "par_data_e = "
     ],
     "language": "python",
     "metadata": {},
     "outputs": []
    },
    {
     "cell_type": "code",
     "collapsed": false,
     "input": [
      "EV=av_data_e/av_data_z"
     ],
     "language": "python",
     "metadata": {},
     "outputs": [],
     "prompt_number": 47
    },
    {
     "cell_type": "code",
     "collapsed": false,
     "input": [
      "plt.plot(abs(freq_z[0:59999]), EV)\n",
      "#plt.ylim(0,0.00001)\n",
      "plt.show()"
     ],
     "language": "python",
     "metadata": {},
     "outputs": [],
     "prompt_number": 61
    },
    {
     "cell_type": "code",
     "collapsed": false,
     "input": [
      "sum_data=abs(data_z[0:59999])\n",
      "print sum_data[100]\n",
      "sum_data=sum_data+abs(data_z[(60000*1)+1:60000*(1+1)])\n",
      "print sum_data[100]\n",
      "sum_data=sum_data+abs(data_z[(60000*2)+1:60000*(2+1)])\n",
      "print sum_data[100]\n",
      "sum_data=sum_data+abs(data_z[(60000*3)+1:60000*(3+1)])\n",
      "print sum_data[100]\n",
      "#for a in range(1,9):\n",
      "#    sum_data=sum_data+data_z[(60000*a)+1:60000*(a+1)]"
     ],
     "language": "python",
     "metadata": {},
     "outputs": [
      {
       "output_type": "stream",
       "stream": "stdout",
       "text": [
        "[ 0.00013325]\n",
        "[ 0.00027979]\n",
        "[ 0.00033866]\n",
        "[ 0.00053666]\n"
       ]
      }
     ],
     "prompt_number": 35
    },
    {
     "cell_type": "code",
     "collapsed": false,
     "input": [
      "print len(freq_z)"
     ],
     "language": "python",
     "metadata": {},
     "outputs": [
      {
       "output_type": "stream",
       "stream": "stdout",
       "text": [
        "539999\n"
       ]
      }
     ],
     "prompt_number": 64
    },
    {
     "cell_type": "code",
     "collapsed": false,
     "input": [
      "x=np.linspace(0, 539999, num=539999)"
     ],
     "language": "python",
     "metadata": {},
     "outputs": [],
     "prompt_number": 65
    },
    {
     "cell_type": "code",
     "collapsed": false,
     "input": [
      "plt.plot(x, freq_z)\n",
      "plt.show()"
     ],
     "language": "python",
     "metadata": {},
     "outputs": [],
     "prompt_number": 66
    },
    {
     "cell_type": "code",
     "collapsed": false,
     "input": [
      "a=np.array((1.,2.,3.,4.,5.,6.))\n",
      "b=np.array((2.,3.,4.,5.,6.,7.))\n",
      "c=(a+b)/2\n",
      "print c"
     ],
     "language": "python",
     "metadata": {},
     "outputs": [
      {
       "output_type": "stream",
       "stream": "stdout",
       "text": [
        "[ 1.5  2.5  3.5  4.5  5.5  6.5]\n"
       ]
      }
     ],
     "prompt_number": 18
    },
    {
     "cell_type": "code",
     "collapsed": false,
     "input": [
      "st = getWave('GB','HTL','*', 'BHZ', '2010-02-15T00:00:00.000',3600*240)\n",
      "st_pre = preprocess(st)\n",
      "time,data,freq=spec_amp(st_pre)\n",
      "\n",
      "xi,yi,zi=Contour(time,freq,data)\n",
      "\n",
      "fig = plt.figure()\n",
      "plt.contourf(xi, yi, zi,1000) \n",
      "plt.clim(0,0.00001)\n",
      "plt.show()"
     ],
     "language": "python",
     "metadata": {},
     "outputs": [
      {
       "output_type": "stream",
       "stream": "stdout",
       "text": [
        "7 Trace(s) in Stream:\n",
        "GB.HTL..BHZ | 2010-02-15T00:00:00.015000Z - 2010-02-17T17:00:29.515000Z | 50.0 Hz, 11701476 samples\n",
        "GB.HTL..BHZ | 2010-02-19T13:25:30.475000Z - 2010-02-20T00:20:27.515000Z | 50.0 Hz, 1964853 samples\n",
        "GB.HTL..BHZ | 2010-02-20T00:21:18.475000Z - 2010-02-20T06:11:49.515000Z | 50.0 Hz, 1051553 samples\n",
        "GB.HTL..BHZ | 2010-02-20T06:12:00.475000Z - 2010-02-21T05:39:48.515000Z | 50.0 Hz, 4223403 samples\n",
        "GB.HTL..BHZ | 2010-02-21T05:39:59.475000Z - 2010-02-22T03:32:34.515000Z | 50.0 Hz, 3937753 samples\n",
        "GB.HTL..BHZ | 2010-02-22T03:32:40.475000Z - 2010-02-23T08:37:30.515000Z | 50.0 Hz, 5234503 samples\n",
        "GB.HTL..BHZ | 2010-02-23T08:38:07.475000Z - 2010-02-23T18:43:03.515000Z | 50.0 Hz, 1814803 samples\n"
       ]
      }
     ],
     "prompt_number": 37
    },
    {
     "cell_type": "code",
     "collapsed": false,
     "input": [
      "plt.plot(time, freq,'rx')\n",
      "\n",
      "plt.show()"
     ],
     "language": "python",
     "metadata": {},
     "outputs": [
      {
       "ename": "NameError",
       "evalue": "name 'time' is not defined",
       "output_type": "pyerr",
       "traceback": [
        "\u001b[0;31m---------------------------------------------------------------------------\u001b[0m\n\u001b[0;31mNameError\u001b[0m                                 Traceback (most recent call last)",
        "\u001b[0;32m<ipython-input-54-fc8d9aac0c75>\u001b[0m in \u001b[0;36m<module>\u001b[0;34m()\u001b[0m\n\u001b[0;32m----> 1\u001b[0;31m \u001b[0mplt\u001b[0m\u001b[0;34m.\u001b[0m\u001b[0mplot\u001b[0m\u001b[0;34m(\u001b[0m\u001b[0mtime\u001b[0m\u001b[0;34m,\u001b[0m \u001b[0mfreq\u001b[0m\u001b[0;34m,\u001b[0m\u001b[0;34m'rx'\u001b[0m\u001b[0;34m)\u001b[0m\u001b[0;34m\u001b[0m\u001b[0m\n\u001b[0m\u001b[1;32m      2\u001b[0m \u001b[0;34m\u001b[0m\u001b[0m\n\u001b[1;32m      3\u001b[0m \u001b[0mplt\u001b[0m\u001b[0;34m.\u001b[0m\u001b[0mshow\u001b[0m\u001b[0;34m(\u001b[0m\u001b[0;34m)\u001b[0m\u001b[0;34m\u001b[0m\u001b[0m\n",
        "\u001b[0;31mNameError\u001b[0m: name 'time' is not defined"
       ]
      }
     ],
     "prompt_number": 54
    },
    {
     "cell_type": "code",
     "collapsed": false,
     "input": [
      "xi,yi,zi=Contour(time,freq,data)\n",
      "\n",
      "fig = plt.figure()\n",
      "plt.contourf(xi, yi, zi,1000) \n",
      "#plt.clim(0,0.00001)\n",
      "plt.show()"
     ],
     "language": "python",
     "metadata": {},
     "outputs": [],
     "prompt_number": 39
    },
    {
     "cell_type": "code",
     "collapsed": false,
     "input": [],
     "language": "python",
     "metadata": {},
     "outputs": []
    }
   ],
   "metadata": {}
  }
 ]
}